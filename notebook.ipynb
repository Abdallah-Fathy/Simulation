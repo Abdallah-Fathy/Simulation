{
 "cells": [
  {
   "cell_type": "code",
   "execution_count": 2,
   "metadata": {},
   "outputs": [],
   "source": [
    "import pandas as pd \n",
    "import numpy as np\n",
    "from random import randint \n",
    "import datetime"
   ]
  },
  {
   "cell_type": "code",
   "execution_count": 3,
   "metadata": {},
   "outputs": [],
   "source": [
    "arrive=pd.read_csv('Arrival.csv')"
   ]
  },
  {
   "cell_type": "code",
   "execution_count": 4,
   "metadata": {},
   "outputs": [
    {
     "data": {
      "text/html": [
       "<div>\n",
       "<style scoped>\n",
       "    .dataframe tbody tr th:only-of-type {\n",
       "        vertical-align: middle;\n",
       "    }\n",
       "\n",
       "    .dataframe tbody tr th {\n",
       "        vertical-align: top;\n",
       "    }\n",
       "\n",
       "    .dataframe thead th {\n",
       "        text-align: right;\n",
       "    }\n",
       "</style>\n",
       "<table border=\"1\" class=\"dataframe\">\n",
       "  <thead>\n",
       "    <tr style=\"text-align: right;\">\n",
       "      <th></th>\n",
       "      <th>Minutes</th>\n",
       "      <th>(0:1)</th>\n",
       "      <th>Probability</th>\n",
       "      <th>From</th>\n",
       "      <th>To</th>\n",
       "    </tr>\n",
       "  </thead>\n",
       "  <tbody>\n",
       "    <tr>\n",
       "      <th>0</th>\n",
       "      <td>1</td>\n",
       "      <td>0.15</td>\n",
       "      <td>NaN</td>\n",
       "      <td>NaN</td>\n",
       "      <td>NaN</td>\n",
       "    </tr>\n",
       "    <tr>\n",
       "      <th>1</th>\n",
       "      <td>2</td>\n",
       "      <td>0.20</td>\n",
       "      <td>NaN</td>\n",
       "      <td>NaN</td>\n",
       "      <td>NaN</td>\n",
       "    </tr>\n",
       "    <tr>\n",
       "      <th>2</th>\n",
       "      <td>3</td>\n",
       "      <td>0.10</td>\n",
       "      <td>NaN</td>\n",
       "      <td>NaN</td>\n",
       "      <td>NaN</td>\n",
       "    </tr>\n",
       "    <tr>\n",
       "      <th>3</th>\n",
       "      <td>4</td>\n",
       "      <td>0.25</td>\n",
       "      <td>NaN</td>\n",
       "      <td>NaN</td>\n",
       "      <td>NaN</td>\n",
       "    </tr>\n",
       "    <tr>\n",
       "      <th>4</th>\n",
       "      <td>5</td>\n",
       "      <td>0.18</td>\n",
       "      <td>NaN</td>\n",
       "      <td>NaN</td>\n",
       "      <td>NaN</td>\n",
       "    </tr>\n",
       "    <tr>\n",
       "      <th>5</th>\n",
       "      <td>6</td>\n",
       "      <td>0.12</td>\n",
       "      <td>NaN</td>\n",
       "      <td>NaN</td>\n",
       "      <td>NaN</td>\n",
       "    </tr>\n",
       "  </tbody>\n",
       "</table>\n",
       "</div>"
      ],
      "text/plain": [
       "   Minutes  (0:1)  Probability  From  To\n",
       "0        1   0.15          NaN   NaN NaN\n",
       "1        2   0.20          NaN   NaN NaN\n",
       "2        3   0.10          NaN   NaN NaN\n",
       "3        4   0.25          NaN   NaN NaN\n",
       "4        5   0.18          NaN   NaN NaN\n",
       "5        6   0.12          NaN   NaN NaN"
      ]
     },
     "execution_count": 4,
     "metadata": {},
     "output_type": "execute_result"
    }
   ],
   "source": [
    "arrive.head(6)"
   ]
  },
  {
   "cell_type": "code",
   "execution_count": 5,
   "metadata": {},
   "outputs": [
    {
     "name": "stderr",
     "output_type": "stream",
     "text": [
      "C:\\Users\\SAEDY\\AppData\\Local\\Temp/ipykernel_18040/507559567.py:1: SettingWithCopyWarning: \n",
      "A value is trying to be set on a copy of a slice from a DataFrame\n",
      "\n",
      "See the caveats in the documentation: https://pandas.pydata.org/pandas-docs/stable/user_guide/indexing.html#returning-a-view-versus-a-copy\n",
      "  arrive['Probability'][0]=arrive['(0:1)'][0]\n",
      "C:\\Users\\SAEDY\\AppData\\Local\\Temp/ipykernel_18040/507559567.py:2: SettingWithCopyWarning: \n",
      "A value is trying to be set on a copy of a slice from a DataFrame\n",
      "\n",
      "See the caveats in the documentation: https://pandas.pydata.org/pandas-docs/stable/user_guide/indexing.html#returning-a-view-versus-a-copy\n",
      "  arrive['Probability'][1]=arrive['(0:1)'][1]+arrive['Probability'][0]\n",
      "C:\\Users\\SAEDY\\AppData\\Local\\Temp/ipykernel_18040/507559567.py:3: SettingWithCopyWarning: \n",
      "A value is trying to be set on a copy of a slice from a DataFrame\n",
      "\n",
      "See the caveats in the documentation: https://pandas.pydata.org/pandas-docs/stable/user_guide/indexing.html#returning-a-view-versus-a-copy\n",
      "  arrive['Probability'][2]=arrive['(0:1)'][2]+arrive['Probability'][1]\n",
      "C:\\Users\\SAEDY\\AppData\\Local\\Temp/ipykernel_18040/507559567.py:4: SettingWithCopyWarning: \n",
      "A value is trying to be set on a copy of a slice from a DataFrame\n",
      "\n",
      "See the caveats in the documentation: https://pandas.pydata.org/pandas-docs/stable/user_guide/indexing.html#returning-a-view-versus-a-copy\n",
      "  arrive['Probability'][3]=arrive['(0:1)'][3]+arrive['Probability'][2]\n",
      "C:\\Users\\SAEDY\\AppData\\Local\\Temp/ipykernel_18040/507559567.py:5: SettingWithCopyWarning: \n",
      "A value is trying to be set on a copy of a slice from a DataFrame\n",
      "\n",
      "See the caveats in the documentation: https://pandas.pydata.org/pandas-docs/stable/user_guide/indexing.html#returning-a-view-versus-a-copy\n",
      "  arrive['Probability'][4]=arrive['(0:1)'][4]+arrive['Probability'][3]\n",
      "C:\\Users\\SAEDY\\AppData\\Local\\Temp/ipykernel_18040/507559567.py:6: SettingWithCopyWarning: \n",
      "A value is trying to be set on a copy of a slice from a DataFrame\n",
      "\n",
      "See the caveats in the documentation: https://pandas.pydata.org/pandas-docs/stable/user_guide/indexing.html#returning-a-view-versus-a-copy\n",
      "  arrive['Probability'][5]=arrive['(0:1)'][5]+arrive['Probability'][4]\n"
     ]
    }
   ],
   "source": [
    "\n",
    "\n",
    "arrive['Probability'][0]=arrive['(0:1)'][0]\n",
    "arrive['Probability'][1]=arrive['(0:1)'][1]+arrive['Probability'][0]\n",
    "arrive['Probability'][2]=arrive['(0:1)'][2]+arrive['Probability'][1]\n",
    "arrive['Probability'][3]=arrive['(0:1)'][3]+arrive['Probability'][2]\n",
    "arrive['Probability'][4]=arrive['(0:1)'][4]+arrive['Probability'][3]\n",
    "arrive['Probability'][5]=arrive['(0:1)'][5]+arrive['Probability'][4]\n"
   ]
  },
  {
   "cell_type": "code",
   "execution_count": 6,
   "metadata": {},
   "outputs": [],
   "source": [
    "arrive['To']=arrive['Probability']*100"
   ]
  },
  {
   "cell_type": "code",
   "execution_count": 7,
   "metadata": {},
   "outputs": [
    {
     "name": "stderr",
     "output_type": "stream",
     "text": [
      "C:\\Users\\SAEDY\\AppData\\Local\\Temp/ipykernel_18040/1815762207.py:1: SettingWithCopyWarning: \n",
      "A value is trying to be set on a copy of a slice from a DataFrame\n",
      "\n",
      "See the caveats in the documentation: https://pandas.pydata.org/pandas-docs/stable/user_guide/indexing.html#returning-a-view-versus-a-copy\n",
      "  arrive['From'][0]=1\n",
      "C:\\Users\\SAEDY\\AppData\\Local\\Temp/ipykernel_18040/1815762207.py:3: SettingWithCopyWarning: \n",
      "A value is trying to be set on a copy of a slice from a DataFrame\n",
      "\n",
      "See the caveats in the documentation: https://pandas.pydata.org/pandas-docs/stable/user_guide/indexing.html#returning-a-view-versus-a-copy\n",
      "  arrive['From'][1:6]=(arrive['Probability'][0:5]*100)+1\n"
     ]
    }
   ],
   "source": [
    "\n",
    "arrive['From'][0]=1\n",
    "\n",
    "arrive['From'][1:6]=(arrive['Probability'][0:5]*100)+1"
   ]
  },
  {
   "cell_type": "code",
   "execution_count": 8,
   "metadata": {},
   "outputs": [
    {
     "data": {
      "text/html": [
       "<div>\n",
       "<style scoped>\n",
       "    .dataframe tbody tr th:only-of-type {\n",
       "        vertical-align: middle;\n",
       "    }\n",
       "\n",
       "    .dataframe tbody tr th {\n",
       "        vertical-align: top;\n",
       "    }\n",
       "\n",
       "    .dataframe thead th {\n",
       "        text-align: right;\n",
       "    }\n",
       "</style>\n",
       "<table border=\"1\" class=\"dataframe\">\n",
       "  <thead>\n",
       "    <tr style=\"text-align: right;\">\n",
       "      <th></th>\n",
       "      <th>Minutes</th>\n",
       "      <th>(0:1)</th>\n",
       "      <th>Probability</th>\n",
       "      <th>From</th>\n",
       "      <th>To</th>\n",
       "    </tr>\n",
       "  </thead>\n",
       "  <tbody>\n",
       "    <tr>\n",
       "      <th>0</th>\n",
       "      <td>1</td>\n",
       "      <td>0.15</td>\n",
       "      <td>0.15</td>\n",
       "      <td>1.0</td>\n",
       "      <td>15.0</td>\n",
       "    </tr>\n",
       "    <tr>\n",
       "      <th>1</th>\n",
       "      <td>2</td>\n",
       "      <td>0.20</td>\n",
       "      <td>0.35</td>\n",
       "      <td>16.0</td>\n",
       "      <td>35.0</td>\n",
       "    </tr>\n",
       "    <tr>\n",
       "      <th>2</th>\n",
       "      <td>3</td>\n",
       "      <td>0.10</td>\n",
       "      <td>0.45</td>\n",
       "      <td>36.0</td>\n",
       "      <td>45.0</td>\n",
       "    </tr>\n",
       "    <tr>\n",
       "      <th>3</th>\n",
       "      <td>4</td>\n",
       "      <td>0.25</td>\n",
       "      <td>0.70</td>\n",
       "      <td>46.0</td>\n",
       "      <td>70.0</td>\n",
       "    </tr>\n",
       "    <tr>\n",
       "      <th>4</th>\n",
       "      <td>5</td>\n",
       "      <td>0.18</td>\n",
       "      <td>0.88</td>\n",
       "      <td>71.0</td>\n",
       "      <td>88.0</td>\n",
       "    </tr>\n",
       "    <tr>\n",
       "      <th>5</th>\n",
       "      <td>6</td>\n",
       "      <td>0.12</td>\n",
       "      <td>1.00</td>\n",
       "      <td>89.0</td>\n",
       "      <td>100.0</td>\n",
       "    </tr>\n",
       "  </tbody>\n",
       "</table>\n",
       "</div>"
      ],
      "text/plain": [
       "   Minutes  (0:1)  Probability  From     To\n",
       "0        1   0.15         0.15   1.0   15.0\n",
       "1        2   0.20         0.35  16.0   35.0\n",
       "2        3   0.10         0.45  36.0   45.0\n",
       "3        4   0.25         0.70  46.0   70.0\n",
       "4        5   0.18         0.88  71.0   88.0\n",
       "5        6   0.12         1.00  89.0  100.0"
      ]
     },
     "execution_count": 8,
     "metadata": {},
     "output_type": "execute_result"
    }
   ],
   "source": [
    "arrive"
   ]
  },
  {
   "cell_type": "code",
   "execution_count": 9,
   "metadata": {},
   "outputs": [
    {
     "data": {
      "text/html": [
       "<div>\n",
       "<style scoped>\n",
       "    .dataframe tbody tr th:only-of-type {\n",
       "        vertical-align: middle;\n",
       "    }\n",
       "\n",
       "    .dataframe tbody tr th {\n",
       "        vertical-align: top;\n",
       "    }\n",
       "\n",
       "    .dataframe thead th {\n",
       "        text-align: right;\n",
       "    }\n",
       "</style>\n",
       "<table border=\"1\" class=\"dataframe\">\n",
       "  <thead>\n",
       "    <tr style=\"text-align: right;\">\n",
       "      <th></th>\n",
       "      <th>Minutes</th>\n",
       "      <th>(0:1)</th>\n",
       "      <th>Probability</th>\n",
       "      <th>From</th>\n",
       "      <th>To</th>\n",
       "    </tr>\n",
       "  </thead>\n",
       "  <tbody>\n",
       "    <tr>\n",
       "      <th>0</th>\n",
       "      <td>2</td>\n",
       "      <td>0.10</td>\n",
       "      <td>NaN</td>\n",
       "      <td>NaN</td>\n",
       "      <td>NaN</td>\n",
       "    </tr>\n",
       "    <tr>\n",
       "      <th>1</th>\n",
       "      <td>3</td>\n",
       "      <td>0.15</td>\n",
       "      <td>NaN</td>\n",
       "      <td>NaN</td>\n",
       "      <td>NaN</td>\n",
       "    </tr>\n",
       "    <tr>\n",
       "      <th>2</th>\n",
       "      <td>4</td>\n",
       "      <td>0.20</td>\n",
       "      <td>NaN</td>\n",
       "      <td>NaN</td>\n",
       "      <td>NaN</td>\n",
       "    </tr>\n",
       "    <tr>\n",
       "      <th>3</th>\n",
       "      <td>5</td>\n",
       "      <td>0.25</td>\n",
       "      <td>NaN</td>\n",
       "      <td>NaN</td>\n",
       "      <td>NaN</td>\n",
       "    </tr>\n",
       "    <tr>\n",
       "      <th>4</th>\n",
       "      <td>6</td>\n",
       "      <td>0.12</td>\n",
       "      <td>NaN</td>\n",
       "      <td>NaN</td>\n",
       "      <td>NaN</td>\n",
       "    </tr>\n",
       "  </tbody>\n",
       "</table>\n",
       "</div>"
      ],
      "text/plain": [
       "   Minutes  (0:1)  Probability  From  To\n",
       "0        2   0.10          NaN   NaN NaN\n",
       "1        3   0.15          NaN   NaN NaN\n",
       "2        4   0.20          NaN   NaN NaN\n",
       "3        5   0.25          NaN   NaN NaN\n",
       "4        6   0.12          NaN   NaN NaN"
      ]
     },
     "execution_count": 9,
     "metadata": {},
     "output_type": "execute_result"
    }
   ],
   "source": [
    "serv=pd.read_csv('service.csv')\n",
    "serv.head()"
   ]
  },
  {
   "cell_type": "code",
   "execution_count": 10,
   "metadata": {},
   "outputs": [
    {
     "name": "stderr",
     "output_type": "stream",
     "text": [
      "C:\\Users\\SAEDY\\AppData\\Local\\Temp/ipykernel_18040/3542322163.py:1: SettingWithCopyWarning: \n",
      "A value is trying to be set on a copy of a slice from a DataFrame\n",
      "\n",
      "See the caveats in the documentation: https://pandas.pydata.org/pandas-docs/stable/user_guide/indexing.html#returning-a-view-versus-a-copy\n",
      "  serv['Probability'][0]=serv['(0:1)'][0]\n",
      "C:\\Users\\SAEDY\\AppData\\Local\\Temp/ipykernel_18040/3542322163.py:2: SettingWithCopyWarning: \n",
      "A value is trying to be set on a copy of a slice from a DataFrame\n",
      "\n",
      "See the caveats in the documentation: https://pandas.pydata.org/pandas-docs/stable/user_guide/indexing.html#returning-a-view-versus-a-copy\n",
      "  serv['Probability'][1]=serv['(0:1)'][1]+serv['Probability'][0]\n",
      "C:\\Users\\SAEDY\\AppData\\Local\\Temp/ipykernel_18040/3542322163.py:3: SettingWithCopyWarning: \n",
      "A value is trying to be set on a copy of a slice from a DataFrame\n",
      "\n",
      "See the caveats in the documentation: https://pandas.pydata.org/pandas-docs/stable/user_guide/indexing.html#returning-a-view-versus-a-copy\n",
      "  serv['Probability'][2]=serv['(0:1)'][2]+serv['Probability'][1]\n",
      "C:\\Users\\SAEDY\\AppData\\Local\\Temp/ipykernel_18040/3542322163.py:4: SettingWithCopyWarning: \n",
      "A value is trying to be set on a copy of a slice from a DataFrame\n",
      "\n",
      "See the caveats in the documentation: https://pandas.pydata.org/pandas-docs/stable/user_guide/indexing.html#returning-a-view-versus-a-copy\n",
      "  serv['Probability'][3]=serv['(0:1)'][3]+serv['Probability'][2]\n",
      "C:\\Users\\SAEDY\\AppData\\Local\\Temp/ipykernel_18040/3542322163.py:5: SettingWithCopyWarning: \n",
      "A value is trying to be set on a copy of a slice from a DataFrame\n",
      "\n",
      "See the caveats in the documentation: https://pandas.pydata.org/pandas-docs/stable/user_guide/indexing.html#returning-a-view-versus-a-copy\n",
      "  serv['Probability'][4]=serv['(0:1)'][4]+serv['Probability'][3]\n",
      "C:\\Users\\SAEDY\\AppData\\Local\\Temp/ipykernel_18040/3542322163.py:6: SettingWithCopyWarning: \n",
      "A value is trying to be set on a copy of a slice from a DataFrame\n",
      "\n",
      "See the caveats in the documentation: https://pandas.pydata.org/pandas-docs/stable/user_guide/indexing.html#returning-a-view-versus-a-copy\n",
      "  serv['Probability'][5]=serv['(0:1)'][5]+serv['Probability'][4]\n"
     ]
    }
   ],
   "source": [
    "serv['Probability'][0]=serv['(0:1)'][0]\n",
    "serv['Probability'][1]=serv['(0:1)'][1]+serv['Probability'][0]\n",
    "serv['Probability'][2]=serv['(0:1)'][2]+serv['Probability'][1]\n",
    "serv['Probability'][3]=serv['(0:1)'][3]+serv['Probability'][2]\n",
    "serv['Probability'][4]=serv['(0:1)'][4]+serv['Probability'][3]\n",
    "serv['Probability'][5]=serv['(0:1)'][5]+serv['Probability'][4]"
   ]
  },
  {
   "cell_type": "code",
   "execution_count": 11,
   "metadata": {},
   "outputs": [],
   "source": [
    "serv['To']=serv['Probability']*100"
   ]
  },
  {
   "cell_type": "code",
   "execution_count": 12,
   "metadata": {},
   "outputs": [
    {
     "name": "stderr",
     "output_type": "stream",
     "text": [
      "C:\\Users\\SAEDY\\AppData\\Local\\Temp/ipykernel_18040/4028496658.py:1: SettingWithCopyWarning: \n",
      "A value is trying to be set on a copy of a slice from a DataFrame\n",
      "\n",
      "See the caveats in the documentation: https://pandas.pydata.org/pandas-docs/stable/user_guide/indexing.html#returning-a-view-versus-a-copy\n",
      "  serv['From'][0]=1\n",
      "C:\\Users\\SAEDY\\AppData\\Local\\Temp/ipykernel_18040/4028496658.py:3: SettingWithCopyWarning: \n",
      "A value is trying to be set on a copy of a slice from a DataFrame\n",
      "\n",
      "See the caveats in the documentation: https://pandas.pydata.org/pandas-docs/stable/user_guide/indexing.html#returning-a-view-versus-a-copy\n",
      "  serv['From'][1:6]=(serv['Probability'][0:5]*100)+1\n"
     ]
    }
   ],
   "source": [
    "\n",
    "serv['From'][0]=1\n",
    "\n",
    "serv['From'][1:6]=(serv['Probability'][0:5]*100)+1"
   ]
  },
  {
   "cell_type": "code",
   "execution_count": 13,
   "metadata": {},
   "outputs": [
    {
     "data": {
      "text/html": [
       "<div>\n",
       "<style scoped>\n",
       "    .dataframe tbody tr th:only-of-type {\n",
       "        vertical-align: middle;\n",
       "    }\n",
       "\n",
       "    .dataframe tbody tr th {\n",
       "        vertical-align: top;\n",
       "    }\n",
       "\n",
       "    .dataframe thead th {\n",
       "        text-align: right;\n",
       "    }\n",
       "</style>\n",
       "<table border=\"1\" class=\"dataframe\">\n",
       "  <thead>\n",
       "    <tr style=\"text-align: right;\">\n",
       "      <th></th>\n",
       "      <th>Minutes</th>\n",
       "      <th>(0:1)</th>\n",
       "      <th>Probability</th>\n",
       "      <th>From</th>\n",
       "      <th>To</th>\n",
       "    </tr>\n",
       "  </thead>\n",
       "  <tbody>\n",
       "    <tr>\n",
       "      <th>0</th>\n",
       "      <td>2</td>\n",
       "      <td>0.10</td>\n",
       "      <td>0.10</td>\n",
       "      <td>1.0</td>\n",
       "      <td>10.0</td>\n",
       "    </tr>\n",
       "    <tr>\n",
       "      <th>1</th>\n",
       "      <td>3</td>\n",
       "      <td>0.15</td>\n",
       "      <td>0.25</td>\n",
       "      <td>11.0</td>\n",
       "      <td>25.0</td>\n",
       "    </tr>\n",
       "    <tr>\n",
       "      <th>2</th>\n",
       "      <td>4</td>\n",
       "      <td>0.20</td>\n",
       "      <td>0.45</td>\n",
       "      <td>26.0</td>\n",
       "      <td>45.0</td>\n",
       "    </tr>\n",
       "    <tr>\n",
       "      <th>3</th>\n",
       "      <td>5</td>\n",
       "      <td>0.25</td>\n",
       "      <td>0.70</td>\n",
       "      <td>46.0</td>\n",
       "      <td>70.0</td>\n",
       "    </tr>\n",
       "    <tr>\n",
       "      <th>4</th>\n",
       "      <td>6</td>\n",
       "      <td>0.12</td>\n",
       "      <td>0.82</td>\n",
       "      <td>71.0</td>\n",
       "      <td>82.0</td>\n",
       "    </tr>\n",
       "    <tr>\n",
       "      <th>5</th>\n",
       "      <td>7</td>\n",
       "      <td>0.18</td>\n",
       "      <td>1.00</td>\n",
       "      <td>83.0</td>\n",
       "      <td>100.0</td>\n",
       "    </tr>\n",
       "  </tbody>\n",
       "</table>\n",
       "</div>"
      ],
      "text/plain": [
       "   Minutes  (0:1)  Probability  From     To\n",
       "0        2   0.10         0.10   1.0   10.0\n",
       "1        3   0.15         0.25  11.0   25.0\n",
       "2        4   0.20         0.45  26.0   45.0\n",
       "3        5   0.25         0.70  46.0   70.0\n",
       "4        6   0.12         0.82  71.0   82.0\n",
       "5        7   0.18         1.00  83.0  100.0"
      ]
     },
     "execution_count": 13,
     "metadata": {},
     "output_type": "execute_result"
    }
   ],
   "source": [
    "serv"
   ]
  },
  {
   "cell_type": "code",
   "execution_count": 14,
   "metadata": {},
   "outputs": [
    {
     "name": "stdout",
     "output_type": "stream",
     "text": [
      "10:00:00\n"
     ]
    }
   ],
   "source": [
    "\n",
    "opening = datetime.time(10,0,0)\n",
    "print(opening)"
   ]
  },
  {
   "cell_type": "code",
   "execution_count": 15,
   "metadata": {},
   "outputs": [
    {
     "data": {
      "text/plain": [
       "[1, 2, 3, 4, 5, 6, 7, 8, 9, 10]"
      ]
     },
     "execution_count": 15,
     "metadata": {},
     "output_type": "execute_result"
    }
   ],
   "source": [
    "Customer_ID=[1,2,3,4,5,6,7,8,9,10]\n",
    "Customer_ID"
   ]
  },
  {
   "cell_type": "code",
   "execution_count": 160,
   "metadata": {},
   "outputs": [],
   "source": [
    "\n",
    "Interval_rand=[]\n",
    "for i in range(1,11):\n",
    "    Interval_rand.append(randint(1,101))\n"
   ]
  },
  {
   "cell_type": "code",
   "execution_count": 161,
   "metadata": {},
   "outputs": [],
   "source": [
    "interval_time=[]\n",
    "for rand in Interval_rand:\n",
    "    for index in range(len(arrive)):\n",
    "        r=range(int(arrive['From'][index]),int(arrive['To'][index])+1)\n",
    "        min=arrive['Minutes'][index]\n",
    "\n",
    "        if rand in r:\n",
    "            interval_time.append(min)\n",
    "            \n",
    "\n",
    "            \n"
   ]
  },
  {
   "cell_type": "code",
   "execution_count": 162,
   "metadata": {},
   "outputs": [
    {
     "name": "stdout",
     "output_type": "stream",
     "text": [
      "[4, 4, 6, 1, 1, 1, 4, 5, 4, 4]\n"
     ]
    }
   ],
   "source": [
    "print(interval_time)"
   ]
  },
  {
   "cell_type": "code",
   "execution_count": 163,
   "metadata": {},
   "outputs": [],
   "source": [
    "arrival_clock=[]\n",
    "arrival_clock.append(opening.replace(minute=opening.minute+interval_time[0]))\n",
    "for time in range(len(interval_time)-1):\n",
    "    arr=arrival_clock[time].replace(minute=arrival_clock[time].minute+interval_time[time+1])\n",
    "    arrival_clock.append(arr)\n",
    "    \n",
    "    "
   ]
  },
  {
   "cell_type": "code",
   "execution_count": 164,
   "metadata": {},
   "outputs": [
    {
     "data": {
      "text/plain": [
       "[datetime.time(10, 4),\n",
       " datetime.time(10, 8),\n",
       " datetime.time(10, 14),\n",
       " datetime.time(10, 15),\n",
       " datetime.time(10, 16),\n",
       " datetime.time(10, 17),\n",
       " datetime.time(10, 21),\n",
       " datetime.time(10, 26),\n",
       " datetime.time(10, 30),\n",
       " datetime.time(10, 34)]"
      ]
     },
     "execution_count": 164,
     "metadata": {},
     "output_type": "execute_result"
    }
   ],
   "source": [
    "arrival_clock"
   ]
  },
  {
   "cell_type": "code",
   "execution_count": 21,
   "metadata": {},
   "outputs": [],
   "source": [
    "Service_rand=[]\n",
    "for i in range(1,11):\n",
    "    Service_rand.append(randint(1,101))"
   ]
  },
  {
   "cell_type": "code",
   "execution_count": 22,
   "metadata": {},
   "outputs": [],
   "source": [
    "Duration=[]\n",
    "for rand in Service_rand:\n",
    "    for index in range(len(serv)):\n",
    "        r=range(int(serv['From'][index]),int(serv['To'][index])+1)\n",
    "        min=serv['Minutes'][index]\n",
    "\n",
    "        if rand in r:\n",
    "            Duration.append(min)"
   ]
  },
  {
   "cell_type": "code",
   "execution_count": 23,
   "metadata": {},
   "outputs": [
    {
     "data": {
      "text/plain": [
       "[7, 2, 4, 7, 7, 2, 3, 3, 6, 2]"
      ]
     },
     "execution_count": 23,
     "metadata": {},
     "output_type": "execute_result"
    }
   ],
   "source": [
    "Duration"
   ]
  },
  {
   "cell_type": "code",
   "execution_count": 24,
   "metadata": {},
   "outputs": [],
   "source": [
    "\n",
    "start=[]\n",
    "start.append(arrival_clock[0])\n",
    "for index in range(len(Duration)-1):\n",
    "    after_duration=start[index].replace(minute=start[index].minute+Duration[index])\n",
    "    start.append(max(after_duration,arrival_clock[index]))"
   ]
  },
  {
   "cell_type": "code",
   "execution_count": 25,
   "metadata": {},
   "outputs": [
    {
     "data": {
      "text/plain": [
       "[datetime.time(10, 4),\n",
       " datetime.time(10, 11),\n",
       " datetime.time(10, 13),\n",
       " datetime.time(10, 17),\n",
       " datetime.time(10, 24),\n",
       " datetime.time(10, 31),\n",
       " datetime.time(10, 33),\n",
       " datetime.time(10, 36),\n",
       " datetime.time(10, 39),\n",
       " datetime.time(10, 45)]"
      ]
     },
     "execution_count": 25,
     "metadata": {},
     "output_type": "execute_result"
    }
   ],
   "source": [
    "start"
   ]
  },
  {
   "cell_type": "code",
   "execution_count": 26,
   "metadata": {},
   "outputs": [],
   "source": [
    "end=[]\n",
    "for index in range(len(Duration)):\n",
    "    end.append(start[index].replace(minute=start[index].minute+Duration[index]))"
   ]
  },
  {
   "cell_type": "code",
   "execution_count": 27,
   "metadata": {},
   "outputs": [
    {
     "data": {
      "text/plain": [
       "[datetime.time(10, 11),\n",
       " datetime.time(10, 13),\n",
       " datetime.time(10, 17),\n",
       " datetime.time(10, 24),\n",
       " datetime.time(10, 31),\n",
       " datetime.time(10, 33),\n",
       " datetime.time(10, 36),\n",
       " datetime.time(10, 39),\n",
       " datetime.time(10, 45),\n",
       " datetime.time(10, 47)]"
      ]
     },
     "execution_count": 27,
     "metadata": {},
     "output_type": "execute_result"
    }
   ],
   "source": [
    "end"
   ]
  },
  {
   "cell_type": "code",
   "execution_count": 28,
   "metadata": {},
   "outputs": [],
   "source": [
    "Customer_wait=[]\n",
    "format = '%H:%M:%S'\n",
    "\n",
    "for index in range(len(start)):\n",
    "   \n",
    "    time = datetime.datetime.strptime(start[index].strftime(\"%H:%M:%S\"), format) - datetime.datetime.strptime(arrival_clock[index].strftime(\"%H:%M:%S\"), format)\n",
    "    Customer_wait.append(time)"
   ]
  },
  {
   "cell_type": "code",
   "execution_count": 29,
   "metadata": {},
   "outputs": [
    {
     "data": {
      "text/plain": [
       "[datetime.timedelta(0),\n",
       " datetime.timedelta(seconds=180),\n",
       " datetime.timedelta(seconds=60),\n",
       " datetime.timedelta(seconds=180),\n",
       " datetime.timedelta(seconds=300),\n",
       " datetime.timedelta(seconds=420),\n",
       " datetime.timedelta(seconds=180),\n",
       " datetime.timedelta(seconds=300),\n",
       " datetime.timedelta(seconds=180),\n",
       " datetime.timedelta(seconds=300)]"
      ]
     },
     "execution_count": 29,
     "metadata": {},
     "output_type": "execute_result"
    }
   ],
   "source": [
    "Customer_wait"
   ]
  },
  {
   "cell_type": "code",
   "execution_count": 30,
   "metadata": {},
   "outputs": [],
   "source": [
    "Server_Ideal=[]\n",
    "Server_Ideal.append(datetime.datetime.strptime(arrival_clock[0].strftime(\"%H:%M:%S\"), format)-datetime.datetime.strptime(opening.strftime(\"%H:%M:%S\"), format))\n",
    "for index in range(len(start)-1):\n",
    "    ending=datetime.datetime.strptime(end[index].strftime(\"%H:%M:%S\"),format)\n",
    "    stating=datetime.datetime.strptime(start[index+1].strftime(\"%H:%M:%S\"),format)\n",
    "    Server_Ideal.append(ending-stating)\n",
    "\n",
    "\n"
   ]
  },
  {
   "cell_type": "code",
   "execution_count": 31,
   "metadata": {},
   "outputs": [
    {
     "data": {
      "text/plain": [
       "[datetime.timedelta(seconds=240),\n",
       " datetime.timedelta(0),\n",
       " datetime.timedelta(0),\n",
       " datetime.timedelta(0),\n",
       " datetime.timedelta(0),\n",
       " datetime.timedelta(0),\n",
       " datetime.timedelta(0),\n",
       " datetime.timedelta(0),\n",
       " datetime.timedelta(0),\n",
       " datetime.timedelta(0)]"
      ]
     },
     "execution_count": 31,
     "metadata": {},
     "output_type": "execute_result"
    }
   ],
   "source": [
    "Server_Ideal"
   ]
  },
  {
   "cell_type": "code",
   "execution_count": 46,
   "metadata": {},
   "outputs": [],
   "source": [
    "data={'Customer_ID':Customer_ID,'Interval_rand':Interval_rand,'interval_time':interval_time,'arrival_clock':arrival_clock,'Service_rand':Service_rand,'start':start,\n",
    "'Duration':Duration,'end':end,'Customer_wait':Customer_wait,'Server_Ideal':Server_Ideal}\n",
    "server=pd.DataFrame(data=data)"
   ]
  },
  {
   "cell_type": "code",
   "execution_count": 49,
   "metadata": {},
   "outputs": [
    {
     "data": {
      "text/html": [
       "<div>\n",
       "<style scoped>\n",
       "    .dataframe tbody tr th:only-of-type {\n",
       "        vertical-align: middle;\n",
       "    }\n",
       "\n",
       "    .dataframe tbody tr th {\n",
       "        vertical-align: top;\n",
       "    }\n",
       "\n",
       "    .dataframe thead th {\n",
       "        text-align: right;\n",
       "    }\n",
       "</style>\n",
       "<table border=\"1\" class=\"dataframe\">\n",
       "  <thead>\n",
       "    <tr style=\"text-align: right;\">\n",
       "      <th></th>\n",
       "      <th>Customer_ID</th>\n",
       "      <th>Interval_rand</th>\n",
       "      <th>interval_time</th>\n",
       "      <th>arrival_clock</th>\n",
       "      <th>Service_rand</th>\n",
       "      <th>start</th>\n",
       "      <th>Duration</th>\n",
       "      <th>end</th>\n",
       "      <th>Customer_wait</th>\n",
       "      <th>Server_Ideal</th>\n",
       "    </tr>\n",
       "  </thead>\n",
       "  <tbody>\n",
       "    <tr>\n",
       "      <th>0</th>\n",
       "      <td>1</td>\n",
       "      <td>62</td>\n",
       "      <td>4</td>\n",
       "      <td>10:04:00</td>\n",
       "      <td>94</td>\n",
       "      <td>10:04:00</td>\n",
       "      <td>7</td>\n",
       "      <td>10:11:00</td>\n",
       "      <td>0 days 00:00:00</td>\n",
       "      <td>0 days 00:04:00</td>\n",
       "    </tr>\n",
       "    <tr>\n",
       "      <th>1</th>\n",
       "      <td>2</td>\n",
       "      <td>45</td>\n",
       "      <td>4</td>\n",
       "      <td>10:08:00</td>\n",
       "      <td>10</td>\n",
       "      <td>10:11:00</td>\n",
       "      <td>2</td>\n",
       "      <td>10:13:00</td>\n",
       "      <td>0 days 00:03:00</td>\n",
       "      <td>0 days 00:00:00</td>\n",
       "    </tr>\n",
       "    <tr>\n",
       "      <th>2</th>\n",
       "      <td>3</td>\n",
       "      <td>34</td>\n",
       "      <td>2</td>\n",
       "      <td>10:12:00</td>\n",
       "      <td>30</td>\n",
       "      <td>10:13:00</td>\n",
       "      <td>4</td>\n",
       "      <td>10:17:00</td>\n",
       "      <td>0 days 00:01:00</td>\n",
       "      <td>0 days 00:00:00</td>\n",
       "    </tr>\n",
       "    <tr>\n",
       "      <th>3</th>\n",
       "      <td>4</td>\n",
       "      <td>86</td>\n",
       "      <td>5</td>\n",
       "      <td>10:14:00</td>\n",
       "      <td>88</td>\n",
       "      <td>10:17:00</td>\n",
       "      <td>7</td>\n",
       "      <td>10:24:00</td>\n",
       "      <td>0 days 00:03:00</td>\n",
       "      <td>0 days 00:00:00</td>\n",
       "    </tr>\n",
       "    <tr>\n",
       "      <th>4</th>\n",
       "      <td>5</td>\n",
       "      <td>76</td>\n",
       "      <td>5</td>\n",
       "      <td>10:19:00</td>\n",
       "      <td>94</td>\n",
       "      <td>10:24:00</td>\n",
       "      <td>7</td>\n",
       "      <td>10:31:00</td>\n",
       "      <td>0 days 00:05:00</td>\n",
       "      <td>0 days 00:00:00</td>\n",
       "    </tr>\n",
       "    <tr>\n",
       "      <th>5</th>\n",
       "      <td>6</td>\n",
       "      <td>91</td>\n",
       "      <td>6</td>\n",
       "      <td>10:24:00</td>\n",
       "      <td>3</td>\n",
       "      <td>10:31:00</td>\n",
       "      <td>2</td>\n",
       "      <td>10:33:00</td>\n",
       "      <td>0 days 00:07:00</td>\n",
       "      <td>0 days 00:00:00</td>\n",
       "    </tr>\n",
       "    <tr>\n",
       "      <th>6</th>\n",
       "      <td>7</td>\n",
       "      <td>8</td>\n",
       "      <td>1</td>\n",
       "      <td>10:30:00</td>\n",
       "      <td>19</td>\n",
       "      <td>10:33:00</td>\n",
       "      <td>3</td>\n",
       "      <td>10:36:00</td>\n",
       "      <td>0 days 00:03:00</td>\n",
       "      <td>0 days 00:00:00</td>\n",
       "    </tr>\n",
       "    <tr>\n",
       "      <th>7</th>\n",
       "      <td>8</td>\n",
       "      <td>72</td>\n",
       "      <td>5</td>\n",
       "      <td>10:31:00</td>\n",
       "      <td>25</td>\n",
       "      <td>10:36:00</td>\n",
       "      <td>3</td>\n",
       "      <td>10:39:00</td>\n",
       "      <td>0 days 00:05:00</td>\n",
       "      <td>0 days 00:00:00</td>\n",
       "    </tr>\n",
       "    <tr>\n",
       "      <th>8</th>\n",
       "      <td>9</td>\n",
       "      <td>65</td>\n",
       "      <td>4</td>\n",
       "      <td>10:36:00</td>\n",
       "      <td>75</td>\n",
       "      <td>10:39:00</td>\n",
       "      <td>6</td>\n",
       "      <td>10:45:00</td>\n",
       "      <td>0 days 00:03:00</td>\n",
       "      <td>0 days 00:00:00</td>\n",
       "    </tr>\n",
       "    <tr>\n",
       "      <th>9</th>\n",
       "      <td>10</td>\n",
       "      <td>22</td>\n",
       "      <td>2</td>\n",
       "      <td>10:40:00</td>\n",
       "      <td>4</td>\n",
       "      <td>10:45:00</td>\n",
       "      <td>2</td>\n",
       "      <td>10:47:00</td>\n",
       "      <td>0 days 00:05:00</td>\n",
       "      <td>0 days 00:00:00</td>\n",
       "    </tr>\n",
       "  </tbody>\n",
       "</table>\n",
       "</div>"
      ],
      "text/plain": [
       "   Customer_ID  Interval_rand  interval_time arrival_clock  Service_rand  \\\n",
       "0            1             62              4      10:04:00            94   \n",
       "1            2             45              4      10:08:00            10   \n",
       "2            3             34              2      10:12:00            30   \n",
       "3            4             86              5      10:14:00            88   \n",
       "4            5             76              5      10:19:00            94   \n",
       "5            6             91              6      10:24:00             3   \n",
       "6            7              8              1      10:30:00            19   \n",
       "7            8             72              5      10:31:00            25   \n",
       "8            9             65              4      10:36:00            75   \n",
       "9           10             22              2      10:40:00             4   \n",
       "\n",
       "      start  Duration       end   Customer_wait    Server_Ideal  \n",
       "0  10:04:00         7  10:11:00 0 days 00:00:00 0 days 00:04:00  \n",
       "1  10:11:00         2  10:13:00 0 days 00:03:00 0 days 00:00:00  \n",
       "2  10:13:00         4  10:17:00 0 days 00:01:00 0 days 00:00:00  \n",
       "3  10:17:00         7  10:24:00 0 days 00:03:00 0 days 00:00:00  \n",
       "4  10:24:00         7  10:31:00 0 days 00:05:00 0 days 00:00:00  \n",
       "5  10:31:00         2  10:33:00 0 days 00:07:00 0 days 00:00:00  \n",
       "6  10:33:00         3  10:36:00 0 days 00:03:00 0 days 00:00:00  \n",
       "7  10:36:00         3  10:39:00 0 days 00:05:00 0 days 00:00:00  \n",
       "8  10:39:00         6  10:45:00 0 days 00:03:00 0 days 00:00:00  \n",
       "9  10:45:00         2  10:47:00 0 days 00:05:00 0 days 00:00:00  "
      ]
     },
     "execution_count": 49,
     "metadata": {},
     "output_type": "execute_result"
    }
   ],
   "source": [
    "server"
   ]
  }
 ],
 "metadata": {
  "kernelspec": {
   "display_name": "Python 3.9.7 64-bit",
   "language": "python",
   "name": "python3"
  },
  "language_info": {
   "codemirror_mode": {
    "name": "ipython",
    "version": 3
   },
   "file_extension": ".py",
   "mimetype": "text/x-python",
   "name": "python",
   "nbconvert_exporter": "python",
   "pygments_lexer": "ipython3",
   "version": "3.9.7"
  },
  "orig_nbformat": 4,
  "vscode": {
   "interpreter": {
    "hash": "347fd03a5b2cbefe887fd0e6d005c790c400974cf25814fefe8faefaf0f6a31f"
   }
  }
 },
 "nbformat": 4,
 "nbformat_minor": 2
}
